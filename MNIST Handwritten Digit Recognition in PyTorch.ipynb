{
 "cells": [
  {
   "cell_type": "code",
   "execution_count": 22,
   "id": "88790009",
   "metadata": {},
   "outputs": [],
   "source": [
    "import torch\n",
    "import torchvision"
   ]
  },
  {
   "cell_type": "code",
   "execution_count": 23,
   "id": "1a385c05",
   "metadata": {},
   "outputs": [
    {
     "data": {
      "text/plain": [
       "<torch._C.Generator at 0x12d769678f0>"
      ]
     },
     "execution_count": 23,
     "metadata": {},
     "output_type": "execute_result"
    }
   ],
   "source": [
    "n_epochs = 3\n",
    "batch_size_train = 64\n",
    "batch_size_test = 1000\n",
    "learning_rate = 0.01\n",
    "momentum = 0.5\n",
    "log_interval = 10\n",
    "\n",
    "random_seed = 1\n",
    "torch.backends.cudnn.enabled = False\n",
    "torch.manual_seed(random_seed)"
   ]
  },
  {
   "cell_type": "code",
   "execution_count": 24,
   "id": "ddfdf033",
   "metadata": {},
   "outputs": [],
   "source": [
    "train_loader = torch.utils.data.DataLoader(\n",
    "  torchvision.datasets.MNIST('/files/', train=True, download=True,\n",
    "                             transform=torchvision.transforms.Compose([\n",
    "                               torchvision.transforms.ToTensor(),\n",
    "                               torchvision.transforms.Normalize(\n",
    "                                 (0.1307,), (0.3081,))\n",
    "                             ])),\n",
    "  batch_size=batch_size_train, shuffle=True)\n",
    "\n",
    "test_loader = torch.utils.data.DataLoader(\n",
    "  torchvision.datasets.MNIST('/files/', train=False, download=True,\n",
    "                             transform=torchvision.transforms.Compose([\n",
    "                               torchvision.transforms.ToTensor(),\n",
    "                               torchvision.transforms.Normalize(\n",
    "                                 (0.1307,), (0.3081,))\n",
    "                             ])),\n",
    "  batch_size=batch_size_test, shuffle=True)"
   ]
  },
  {
   "cell_type": "code",
   "execution_count": 25,
   "id": "023037b5",
   "metadata": {},
   "outputs": [],
   "source": [
    "examples = enumerate(test_loader)\n",
    "batch_idx, (example_data, example_targets) = next(examples)"
   ]
  },
  {
   "cell_type": "code",
   "execution_count": 26,
   "id": "d8bc8fe5",
   "metadata": {},
   "outputs": [
    {
     "data": {
      "text/plain": [
       "torch.Size([1000, 1, 28, 28])"
      ]
     },
     "execution_count": 26,
     "metadata": {},
     "output_type": "execute_result"
    }
   ],
   "source": [
    "example_data.shape"
   ]
  },
  {
   "cell_type": "code",
   "execution_count": 27,
   "id": "237dfc63",
   "metadata": {},
   "outputs": [
    {
     "data": {
      "image/png": "[encoded data removed]",
      "text/plain": [
       "<Figure size 640x480 with 6 Axes>"
      ]
     },
     "execution_count": 27,
     "metadata": {},
     "output_type": "execute_result"
    },
    {
     "data": {
      "image/png": "[encoded data removed]",
      "text/plain": [
       "<Figure size 640x480 with 6 Axes>"
      ]
     },
     "metadata": {},
     "output_type": "display_data"
    }
   ],
   "source": [
    "import matplotlib.pyplot as plt\n",
    "\n",
    "fig = plt.figure()\n",
    "for i in range(6):\n",
    "  plt.subplot(2,3,i+1)\n",
    "  plt.tight_layout()\n",
    "  plt.imshow(example_data[i][0], cmap='gray', interpolation='none')\n",
    "  plt.title(\"Ground Truth: {}\".format(example_targets[i]))\n",
    "  plt.xticks([])\n",
    "  plt.yticks([])\n",
    "fig"
   ]
  },
  {
   "cell_type": "code",
   "execution_count": 28,
   "id": "d257b339",
   "metadata": {},
   "outputs": [],
   "source": [
    "import torch.nn as nn\n",
    "import torch.nn.functional as F\n",
    "import torch.optim as optim"
   ]
  },
  {
   "cell_type": "code",
   "execution_count": 70,
   "id": "e4777b3b",
   "metadata": {},
   "outputs": [],
   "source": [
    "class Net(nn.Module):\n",
    "    def __init__(self):\n",
    "        super(Net, self).__init__()\n",
    "        self.conv1 = nn.Conv2d(1, 10, kernel_size=5)\n",
    "        self.conv2 = nn.Conv2d(10, 20, kernel_size=5)\n",
    "        self.conv2_drop = nn.Dropout2d()\n",
    "        self.fc1 = nn.Linear(320, 50)\n",
    "        self.fc2 = nn.Linear(50, 10)\n",
    "\n",
    "    def forward(self, x):\n",
    "        x = F.relu(F.max_pool2d(self.conv1(x), 2))\n",
    "        x = F.relu(F.max_pool2d(self.conv2_drop(self.conv2(x)), 2))\n",
    "        x = x.view(-1, 320)\n",
    "        x = F.relu(self.fc1(x))\n",
    "        x = F.dropout(x, training=self.training)\n",
    "        x = self.fc2(x)\n",
    "        return F.log_softmax(x)"
   ]
  },
  {
   "cell_type": "code",
   "execution_count": 71,
   "id": "07d75eff",
   "metadata": {},
   "outputs": [],
   "source": [
    "network = Net()\n",
    "optimizer = optim.SGD(network.parameters(), lr=learning_rate,\n",
    "                      momentum=momentum)"
   ]
  },
  {
   "cell_type": "code",
   "execution_count": 72,
   "id": "8304f138",
   "metadata": {},
   "outputs": [],
   "source": [
    "train_losses = []\n",
    "train_counter = []\n",
    "test_losses = []\n",
    "test_counter = [i*len(train_loader.dataset) for i in range(n_epochs + 1)]"
   ]
  },
  {
   "cell_type": "code",
   "execution_count": 78,
   "id": "d94ceebb",
   "metadata": {},
   "outputs": [],
   "source": [
    "def train(epoch):\n",
    "  network.train()\n",
    "  for batch_idx, (data, target) in enumerate(train_loader):\n",
    "    optimizer.zero_grad()\n",
    "    output = network(data)\n",
    "    loss = F.nll_loss(output, target)\n",
    "    loss.backward()\n",
    "    optimizer.step()\n",
    "    if batch_idx % log_interval == 0:\n",
    "      print('Train Epoch: {} [{}/{} ({:.0f}%)]\\tLoss: {:.6f}'.format(\n",
    "        epoch, batch_idx * len(data), len(train_loader.dataset),\n",
    "        100. * batch_idx / len(train_loader), loss.item()))\n",
    "      train_losses.append(loss.item())\n",
    "      train_counter.append(\n",
    "        (batch_idx*64) + ((epoch-1)*len(train_loader.dataset)))"
   ]
  },
  {
   "cell_type": "code",
   "execution_count": 81,
   "id": "a1295b7d",
   "metadata": {},
   "outputs": [],
   "source": [
    "def test():\n",
    "  network.eval()\n",
    "  test_loss = 0\n",
    "  correct = 0\n",
    "  with torch.no_grad():\n",
    "    for data, target in test_loader:\n",
    "      output = network(data)\n",
    "      test_loss += F.nll_loss(output, target, size_average=False).item()\n",
    "      pred = output.data.max(1, keepdim=True)[1]\n",
    "      correct += pred.eq(target.data.view_as(pred)).sum()\n",
    "  test_loss /= len(test_loader.dataset)\n",
    "  test_losses.append(test_loss)\n",
    "  print('\\nTest set: Avg. loss: {:.4f}, Accuracy: {}/{} ({:.0f}%)\\n'.format(\n",
    "    test_loss, correct, len(test_loader.dataset),\n",
    "    100. * correct / len(test_loader.dataset)))"
   ]
  },
  {
   "cell_type": "code",
   "execution_count": 82,
   "id": "b9809202",
   "metadata": {},
   "outputs": [
    {
     "name": "stderr",
     "output_type": "stream",
     "text": [
      "C:\\Users\\Mostafa\\AppData\\Local\\Temp\\ipykernel_16876\\161431047.py:17: UserWarning: Implicit dimension choice for log_softmax has been deprecated. Change the call to include dim=X as an argument.\n",
      "  return F.log_softmax(x)\n"
     ]
    },
    {
     "name": "stdout",
     "output_type": "stream",
     "text": [
      "\n",
      "Test set: Avg. loss: 2.3090, Accuracy: 982/10000 (10%)\n",
      "\n",
      "Train Epoch: 1 [0/60000 (0%)]\tLoss: 2.321013\n",
      "Train Epoch: 1 [640/60000 (1%)]\tLoss: 2.285374\n",
      "Train Epoch: 1 [1280/60000 (2%)]\tLoss: 2.301429\n",
      "Train Epoch: 1 [1920/60000 (3%)]\tLoss: 2.279260\n",
      "Train Epoch: 1 [2560/60000 (4%)]\tLoss: 2.292324\n",
      "Train Epoch: 1 [3200/60000 (5%)]\tLoss: 2.276447\n",
      "Train Epoch: 1 [3840/60000 (6%)]\tLoss: 2.247631\n",
      "Train Epoch: 1 [4480/60000 (7%)]\tLoss: 2.272047\n",
      "Train Epoch: 1 [5120/60000 (9%)]\tLoss: 2.218942\n",
      "Train Epoch: 1 [5760/60000 (10%)]\tLoss: 2.250787\n",
      "Train Epoch: 1 [6400/60000 (11%)]\tLoss: 2.222169\n",
      "Train Epoch: 1 [7040/60000 (12%)]\tLoss: 2.135129\n",
      "Train Epoch: 1 [7680/60000 (13%)]\tLoss: 2.093071\n",
      "Train Epoch: 1 [8320/60000 (14%)]\tLoss: 2.054990\n",
      "Train Epoch: 1 [8960/60000 (15%)]\tLoss: 1.934876\n",
      "Train Epoch: 1 [9600/60000 (16%)]\tLoss: 1.959303\n",
      "Train Epoch: 1 [10240/60000 (17%)]\tLoss: 1.746361\n",
      "Train Epoch: 1 [10880/60000 (18%)]\tLoss: 1.627732\n",
      "Train Epoch: 1 [11520/60000 (19%)]\tLoss: 1.506287\n",
      "Train Epoch: 1 [12160/60000 (20%)]\tLoss: 1.512797\n",
      "Train Epoch: 1 [12800/60000 (21%)]\tLoss: 1.450754\n",
      "Train Epoch: 1 [13440/60000 (22%)]\tLoss: 1.139123\n",
      "Train Epoch: 1 [14080/60000 (23%)]\tLoss: 1.096598\n",
      "Train Epoch: 1 [14720/60000 (25%)]\tLoss: 1.315114\n",
      "Train Epoch: 1 [15360/60000 (26%)]\tLoss: 0.967003\n",
      "Train Epoch: 1 [16000/60000 (27%)]\tLoss: 0.993740\n",
      "Train Epoch: 1 [16640/60000 (28%)]\tLoss: 1.109105\n",
      "Train Epoch: 1 [17280/60000 (29%)]\tLoss: 1.054716\n",
      "Train Epoch: 1 [17920/60000 (30%)]\tLoss: 1.080638\n",
      "Train Epoch: 1 [18560/60000 (31%)]\tLoss: 0.939104\n",
      "Train Epoch: 1 [19200/60000 (32%)]\tLoss: 0.913217\n",
      "Train Epoch: 1 [19840/60000 (33%)]\tLoss: 1.312687\n",
      "Train Epoch: 1 [20480/60000 (34%)]\tLoss: 0.971022\n",
      "Train Epoch: 1 [21120/60000 (35%)]\tLoss: 0.990022\n",
      "Train Epoch: 1 [21760/60000 (36%)]\tLoss: 0.552670\n",
      "Train Epoch: 1 [22400/60000 (37%)]\tLoss: 0.740811\n",
      "Train Epoch: 1 [23040/60000 (38%)]\tLoss: 0.689679\n",
      "Train Epoch: 1 [23680/60000 (39%)]\tLoss: 0.865667\n",
      "Train Epoch: 1 [24320/60000 (41%)]\tLoss: 0.643018\n",
      "Train Epoch: 1 [24960/60000 (42%)]\tLoss: 0.896068\n",
      "Train Epoch: 1 [25600/60000 (43%)]\tLoss: 1.045525\n",
      "Train Epoch: 1 [26240/60000 (44%)]\tLoss: 0.629062\n",
      "Train Epoch: 1 [26880/60000 (45%)]\tLoss: 0.995539\n",
      "Train Epoch: 1 [27520/60000 (46%)]\tLoss: 0.972297\n",
      "Train Epoch: 1 [28160/60000 (47%)]\tLoss: 0.719170\n",
      "Train Epoch: 1 [28800/60000 (48%)]\tLoss: 0.473904\n",
      "Train Epoch: 1 [29440/60000 (49%)]\tLoss: 0.371112\n",
      "Train Epoch: 1 [30080/60000 (50%)]\tLoss: 0.741824\n",
      "Train Epoch: 1 [30720/60000 (51%)]\tLoss: 0.541000\n",
      "Train Epoch: 1 [31360/60000 (52%)]\tLoss: 0.425186\n",
      "Train Epoch: 1 [32000/60000 (53%)]\tLoss: 0.662053\n",
      "Train Epoch: 1 [32640/60000 (54%)]\tLoss: 0.393876\n",
      "Train Epoch: 1 [33280/60000 (55%)]\tLoss: 0.828467\n",
      "Train Epoch: 1 [33920/60000 (57%)]\tLoss: 0.799698\n",
      "Train Epoch: 1 [34560/60000 (58%)]\tLoss: 0.370534\n",
      "Train Epoch: 1 [35200/60000 (59%)]\tLoss: 0.499282\n",
      "Train Epoch: 1 [35840/60000 (60%)]\tLoss: 0.638791\n",
      "Train Epoch: 1 [36480/60000 (61%)]\tLoss: 0.663207\n",
      "Train Epoch: 1 [37120/60000 (62%)]\tLoss: 0.528952\n",
      "Train Epoch: 1 [37760/60000 (63%)]\tLoss: 0.691984\n",
      "Train Epoch: 1 [38400/60000 (64%)]\tLoss: 0.523756\n",
      "Train Epoch: 1 [39040/60000 (65%)]\tLoss: 0.829979\n",
      "Train Epoch: 1 [39680/60000 (66%)]\tLoss: 0.577817\n",
      "Train Epoch: 1 [40320/60000 (67%)]\tLoss: 0.505785\n",
      "Train Epoch: 1 [40960/60000 (68%)]\tLoss: 0.651198\n",
      "Train Epoch: 1 [41600/60000 (69%)]\tLoss: 0.623979\n",
      "Train Epoch: 1 [42240/60000 (70%)]\tLoss: 0.793845\n",
      "Train Epoch: 1 [42880/60000 (71%)]\tLoss: 0.515431\n",
      "Train Epoch: 1 [43520/60000 (72%)]\tLoss: 0.513864\n",
      "Train Epoch: 1 [44160/60000 (74%)]\tLoss: 0.371574\n",
      "Train Epoch: 1 [44800/60000 (75%)]\tLoss: 0.776314\n",
      "Train Epoch: 1 [45440/60000 (76%)]\tLoss: 0.475133\n",
      "Train Epoch: 1 [46080/60000 (77%)]\tLoss: 0.691968\n",
      "Train Epoch: 1 [46720/60000 (78%)]\tLoss: 0.534758\n",
      "Train Epoch: 1 [47360/60000 (79%)]\tLoss: 0.624680\n",
      "Train Epoch: 1 [48000/60000 (80%)]\tLoss: 0.397264\n",
      "Train Epoch: 1 [48640/60000 (81%)]\tLoss: 0.671397\n",
      "Train Epoch: 1 [49280/60000 (82%)]\tLoss: 0.358398\n",
      "Train Epoch: 1 [49920/60000 (83%)]\tLoss: 0.442291\n",
      "Train Epoch: 1 [50560/60000 (84%)]\tLoss: 0.368779\n",
      "Train Epoch: 1 [51200/60000 (85%)]\tLoss: 0.852100\n",
      "Train Epoch: 1 [51840/60000 (86%)]\tLoss: 0.453750\n",
      "Train Epoch: 1 [52480/60000 (87%)]\tLoss: 0.336698\n",
      "Train Epoch: 1 [53120/60000 (88%)]\tLoss: 0.485207\n",
      "Train Epoch: 1 [53760/60000 (90%)]\tLoss: 0.442877\n",
      "Train Epoch: 1 [54400/60000 (91%)]\tLoss: 0.593038\n",
      "Train Epoch: 1 [55040/60000 (92%)]\tLoss: 0.453747\n",
      "Train Epoch: 1 [55680/60000 (93%)]\tLoss: 0.459139\n",
      "Train Epoch: 1 [56320/60000 (94%)]\tLoss: 0.549550\n",
      "Train Epoch: 1 [56960/60000 (95%)]\tLoss: 0.570710\n",
      "Train Epoch: 1 [57600/60000 (96%)]\tLoss: 0.632498\n",
      "Train Epoch: 1 [58240/60000 (97%)]\tLoss: 0.357017\n",
      "Train Epoch: 1 [58880/60000 (98%)]\tLoss: 0.486628\n",
      "Train Epoch: 1 [59520/60000 (99%)]\tLoss: 0.572219\n",
      "\n",
      "Test set: Avg. loss: 0.1838, Accuracy: 9457/10000 (95%)\n",
      "\n",
      "Train Epoch: 2 [0/60000 (0%)]\tLoss: 0.288520\n",
      "Train Epoch: 2 [640/60000 (1%)]\tLoss: 0.474363\n",
      "Train Epoch: 2 [1280/60000 (2%)]\tLoss: 0.390920\n",
      "Train Epoch: 2 [1920/60000 (3%)]\tLoss: 0.332245\n",
      "Train Epoch: 2 [2560/60000 (4%)]\tLoss: 0.406574\n",
      "Train Epoch: 2 [3200/60000 (5%)]\tLoss: 0.473598\n",
      "Train Epoch: 2 [3840/60000 (6%)]\tLoss: 0.493123\n",
      "Train Epoch: 2 [4480/60000 (7%)]\tLoss: 0.526526\n",
      "Train Epoch: 2 [5120/60000 (9%)]\tLoss: 0.195991\n",
      "Train Epoch: 2 [5760/60000 (10%)]\tLoss: 0.696611\n",
      "Train Epoch: 2 [6400/60000 (11%)]\tLoss: 0.332428\n",
      "Train Epoch: 2 [7040/60000 (12%)]\tLoss: 0.412600\n",
      "Train Epoch: 2 [7680/60000 (13%)]\tLoss: 0.518104\n",
      "Train Epoch: 2 [8320/60000 (14%)]\tLoss: 0.519150\n",
      "Train Epoch: 2 [8960/60000 (15%)]\tLoss: 0.242338\n",
      "Train Epoch: 2 [9600/60000 (16%)]\tLoss: 0.349977\n",
      "Train Epoch: 2 [10240/60000 (17%)]\tLoss: 0.303574\n",
      "Train Epoch: 2 [10880/60000 (18%)]\tLoss: 0.451529\n",
      "Train Epoch: 2 [11520/60000 (19%)]\tLoss: 0.664978\n",
      "Train Epoch: 2 [12160/60000 (20%)]\tLoss: 0.445582\n",
      "Train Epoch: 2 [12800/60000 (21%)]\tLoss: 0.544623\n",
      "Train Epoch: 2 [13440/60000 (22%)]\tLoss: 0.356826\n",
      "Train Epoch: 2 [14080/60000 (23%)]\tLoss: 0.276546\n",
      "Train Epoch: 2 [14720/60000 (25%)]\tLoss: 0.441886\n",
      "Train Epoch: 2 [15360/60000 (26%)]\tLoss: 0.533491\n",
      "Train Epoch: 2 [16000/60000 (27%)]\tLoss: 0.259640\n",
      "Train Epoch: 2 [16640/60000 (28%)]\tLoss: 0.404923\n",
      "Train Epoch: 2 [17280/60000 (29%)]\tLoss: 0.586628\n",
      "Train Epoch: 2 [17920/60000 (30%)]\tLoss: 0.238749\n",
      "Train Epoch: 2 [18560/60000 (31%)]\tLoss: 0.403806\n",
      "Train Epoch: 2 [19200/60000 (32%)]\tLoss: 0.638129\n",
      "Train Epoch: 2 [19840/60000 (33%)]\tLoss: 0.249127\n",
      "Train Epoch: 2 [20480/60000 (34%)]\tLoss: 0.492218\n",
      "Train Epoch: 2 [21120/60000 (35%)]\tLoss: 0.364741\n",
      "Train Epoch: 2 [21760/60000 (36%)]\tLoss: 0.321203\n",
      "Train Epoch: 2 [22400/60000 (37%)]\tLoss: 0.689526\n",
      "Train Epoch: 2 [23040/60000 (38%)]\tLoss: 0.278057\n",
      "Train Epoch: 2 [23680/60000 (39%)]\tLoss: 0.558740\n",
      "Train Epoch: 2 [24320/60000 (41%)]\tLoss: 0.215149\n",
      "Train Epoch: 2 [24960/60000 (42%)]\tLoss: 0.258289\n",
      "Train Epoch: 2 [25600/60000 (43%)]\tLoss: 0.482007\n",
      "Train Epoch: 2 [26240/60000 (44%)]\tLoss: 0.413701\n",
      "Train Epoch: 2 [26880/60000 (45%)]\tLoss: 0.321256\n",
      "Train Epoch: 2 [27520/60000 (46%)]\tLoss: 0.274200\n",
      "Train Epoch: 2 [28160/60000 (47%)]\tLoss: 0.301333\n",
      "Train Epoch: 2 [28800/60000 (48%)]\tLoss: 0.520536\n",
      "Train Epoch: 2 [29440/60000 (49%)]\tLoss: 0.324490\n",
      "Train Epoch: 2 [30080/60000 (50%)]\tLoss: 0.261022\n",
      "Train Epoch: 2 [30720/60000 (51%)]\tLoss: 0.614021\n",
      "Train Epoch: 2 [31360/60000 (52%)]\tLoss: 0.182136\n",
      "Train Epoch: 2 [32000/60000 (53%)]\tLoss: 0.351816\n",
      "Train Epoch: 2 [32640/60000 (54%)]\tLoss: 0.422863\n",
      "Train Epoch: 2 [33280/60000 (55%)]\tLoss: 0.359409\n",
      "Train Epoch: 2 [33920/60000 (57%)]\tLoss: 0.396654\n",
      "Train Epoch: 2 [34560/60000 (58%)]\tLoss: 0.263000\n",
      "Train Epoch: 2 [35200/60000 (59%)]\tLoss: 0.219122\n",
      "Train Epoch: 2 [35840/60000 (60%)]\tLoss: 0.266650\n",
      "Train Epoch: 2 [36480/60000 (61%)]\tLoss: 0.248726\n",
      "Train Epoch: 2 [37120/60000 (62%)]\tLoss: 0.263183\n",
      "Train Epoch: 2 [37760/60000 (63%)]\tLoss: 0.271079\n",
      "Train Epoch: 2 [38400/60000 (64%)]\tLoss: 0.386063\n",
      "Train Epoch: 2 [39040/60000 (65%)]\tLoss: 0.407749\n",
      "Train Epoch: 2 [39680/60000 (66%)]\tLoss: 0.340975\n",
      "Train Epoch: 2 [40320/60000 (67%)]\tLoss: 0.215044\n",
      "Train Epoch: 2 [40960/60000 (68%)]\tLoss: 0.322472\n",
      "Train Epoch: 2 [41600/60000 (69%)]\tLoss: 0.308837\n",
      "Train Epoch: 2 [42240/60000 (70%)]\tLoss: 0.231345\n",
      "Train Epoch: 2 [42880/60000 (71%)]\tLoss: 0.419732\n",
      "Train Epoch: 2 [43520/60000 (72%)]\tLoss: 0.526234\n"
     ]
    },
    {
     "name": "stdout",
     "output_type": "stream",
     "text": [
      "Train Epoch: 2 [44160/60000 (74%)]\tLoss: 0.257599\n",
      "Train Epoch: 2 [44800/60000 (75%)]\tLoss: 0.316510\n",
      "Train Epoch: 2 [45440/60000 (76%)]\tLoss: 0.301809\n",
      "Train Epoch: 2 [46080/60000 (77%)]\tLoss: 0.162637\n",
      "Train Epoch: 2 [46720/60000 (78%)]\tLoss: 0.157402\n",
      "Train Epoch: 2 [47360/60000 (79%)]\tLoss: 0.293579\n",
      "Train Epoch: 2 [48000/60000 (80%)]\tLoss: 0.222370\n",
      "Train Epoch: 2 [48640/60000 (81%)]\tLoss: 0.404479\n",
      "Train Epoch: 2 [49280/60000 (82%)]\tLoss: 0.221292\n",
      "Train Epoch: 2 [49920/60000 (83%)]\tLoss: 0.356546\n",
      "Train Epoch: 2 [50560/60000 (84%)]\tLoss: 0.254447\n",
      "Train Epoch: 2 [51200/60000 (85%)]\tLoss: 0.328633\n",
      "Train Epoch: 2 [51840/60000 (86%)]\tLoss: 0.370753\n",
      "Train Epoch: 2 [52480/60000 (87%)]\tLoss: 0.165189\n",
      "Train Epoch: 2 [53120/60000 (88%)]\tLoss: 0.282798\n",
      "Train Epoch: 2 [53760/60000 (90%)]\tLoss: 0.411805\n",
      "Train Epoch: 2 [54400/60000 (91%)]\tLoss: 0.265396\n",
      "Train Epoch: 2 [55040/60000 (92%)]\tLoss: 0.245831\n",
      "Train Epoch: 2 [55680/60000 (93%)]\tLoss: 0.304182\n",
      "Train Epoch: 2 [56320/60000 (94%)]\tLoss: 0.340088\n",
      "Train Epoch: 2 [56960/60000 (95%)]\tLoss: 0.291494\n",
      "Train Epoch: 2 [57600/60000 (96%)]\tLoss: 0.258217\n",
      "Train Epoch: 2 [58240/60000 (97%)]\tLoss: 0.452043\n",
      "Train Epoch: 2 [58880/60000 (98%)]\tLoss: 0.239128\n",
      "Train Epoch: 2 [59520/60000 (99%)]\tLoss: 0.162157\n",
      "\n",
      "Test set: Avg. loss: 0.1192, Accuracy: 9647/10000 (96%)\n",
      "\n",
      "Train Epoch: 3 [0/60000 (0%)]\tLoss: 0.228536\n",
      "Train Epoch: 3 [640/60000 (1%)]\tLoss: 0.268716\n",
      "Train Epoch: 3 [1280/60000 (2%)]\tLoss: 0.163208\n",
      "Train Epoch: 3 [1920/60000 (3%)]\tLoss: 0.379291\n",
      "Train Epoch: 3 [2560/60000 (4%)]\tLoss: 0.291982\n",
      "Train Epoch: 3 [3200/60000 (5%)]\tLoss: 0.271471\n",
      "Train Epoch: 3 [3840/60000 (6%)]\tLoss: 0.408520\n",
      "Train Epoch: 3 [4480/60000 (7%)]\tLoss: 0.225701\n",
      "Train Epoch: 3 [5120/60000 (9%)]\tLoss: 0.170232\n",
      "Train Epoch: 3 [5760/60000 (10%)]\tLoss: 0.274897\n",
      "Train Epoch: 3 [6400/60000 (11%)]\tLoss: 0.309514\n",
      "Train Epoch: 3 [7040/60000 (12%)]\tLoss: 0.188648\n",
      "Train Epoch: 3 [7680/60000 (13%)]\tLoss: 0.393231\n",
      "Train Epoch: 3 [8320/60000 (14%)]\tLoss: 0.154283\n",
      "Train Epoch: 3 [8960/60000 (15%)]\tLoss: 0.262302\n",
      "Train Epoch: 3 [9600/60000 (16%)]\tLoss: 0.339406\n",
      "Train Epoch: 3 [10240/60000 (17%)]\tLoss: 0.221191\n",
      "Train Epoch: 3 [10880/60000 (18%)]\tLoss: 0.324566\n",
      "Train Epoch: 3 [11520/60000 (19%)]\tLoss: 0.458089\n",
      "Train Epoch: 3 [12160/60000 (20%)]\tLoss: 0.175555\n",
      "Train Epoch: 3 [12800/60000 (21%)]\tLoss: 0.333518\n",
      "Train Epoch: 3 [13440/60000 (22%)]\tLoss: 0.290950\n",
      "Train Epoch: 3 [14080/60000 (23%)]\tLoss: 0.217517\n",
      "Train Epoch: 3 [14720/60000 (25%)]\tLoss: 0.599662\n",
      "Train Epoch: 3 [15360/60000 (26%)]\tLoss: 0.251986\n",
      "Train Epoch: 3 [16000/60000 (27%)]\tLoss: 0.192759\n",
      "Train Epoch: 3 [16640/60000 (28%)]\tLoss: 0.293786\n",
      "Train Epoch: 3 [17280/60000 (29%)]\tLoss: 0.158447\n",
      "Train Epoch: 3 [17920/60000 (30%)]\tLoss: 0.287633\n",
      "Train Epoch: 3 [18560/60000 (31%)]\tLoss: 0.332671\n",
      "Train Epoch: 3 [19200/60000 (32%)]\tLoss: 0.252154\n",
      "Train Epoch: 3 [19840/60000 (33%)]\tLoss: 0.214358\n",
      "Train Epoch: 3 [20480/60000 (34%)]\tLoss: 0.390803\n",
      "Train Epoch: 3 [21120/60000 (35%)]\tLoss: 0.308734\n",
      "Train Epoch: 3 [21760/60000 (36%)]\tLoss: 0.453975\n",
      "Train Epoch: 3 [22400/60000 (37%)]\tLoss: 0.205299\n",
      "Train Epoch: 3 [23040/60000 (38%)]\tLoss: 0.310783\n",
      "Train Epoch: 3 [23680/60000 (39%)]\tLoss: 0.262084\n",
      "Train Epoch: 3 [24320/60000 (41%)]\tLoss: 0.591464\n",
      "Train Epoch: 3 [24960/60000 (42%)]\tLoss: 0.230270\n",
      "Train Epoch: 3 [25600/60000 (43%)]\tLoss: 0.197323\n",
      "Train Epoch: 3 [26240/60000 (44%)]\tLoss: 0.214785\n",
      "Train Epoch: 3 [26880/60000 (45%)]\tLoss: 0.190510\n",
      "Train Epoch: 3 [27520/60000 (46%)]\tLoss: 0.382957\n",
      "Train Epoch: 3 [28160/60000 (47%)]\tLoss: 0.515460\n",
      "Train Epoch: 3 [28800/60000 (48%)]\tLoss: 0.390071\n",
      "Train Epoch: 3 [29440/60000 (49%)]\tLoss: 0.356515\n",
      "Train Epoch: 3 [30080/60000 (50%)]\tLoss: 0.253319\n",
      "Train Epoch: 3 [30720/60000 (51%)]\tLoss: 0.439257\n",
      "Train Epoch: 3 [31360/60000 (52%)]\tLoss: 0.383533\n",
      "Train Epoch: 3 [32000/60000 (53%)]\tLoss: 0.410912\n",
      "Train Epoch: 3 [32640/60000 (54%)]\tLoss: 0.372920\n",
      "Train Epoch: 3 [33280/60000 (55%)]\tLoss: 0.185544\n",
      "Train Epoch: 3 [33920/60000 (57%)]\tLoss: 0.345733\n",
      "Train Epoch: 3 [34560/60000 (58%)]\tLoss: 0.222556\n",
      "Train Epoch: 3 [35200/60000 (59%)]\tLoss: 0.337233\n",
      "Train Epoch: 3 [35840/60000 (60%)]\tLoss: 0.118647\n",
      "Train Epoch: 3 [36480/60000 (61%)]\tLoss: 0.335226\n",
      "Train Epoch: 3 [37120/60000 (62%)]\tLoss: 0.516381\n",
      "Train Epoch: 3 [37760/60000 (63%)]\tLoss: 0.349650\n",
      "Train Epoch: 3 [38400/60000 (64%)]\tLoss: 0.377356\n",
      "Train Epoch: 3 [39040/60000 (65%)]\tLoss: 0.147883\n",
      "Train Epoch: 3 [39680/60000 (66%)]\tLoss: 0.365707\n",
      "Train Epoch: 3 [40320/60000 (67%)]\tLoss: 0.218004\n",
      "Train Epoch: 3 [40960/60000 (68%)]\tLoss: 0.202154\n",
      "Train Epoch: 3 [41600/60000 (69%)]\tLoss: 0.317095\n",
      "Train Epoch: 3 [42240/60000 (70%)]\tLoss: 0.481523\n",
      "Train Epoch: 3 [42880/60000 (71%)]\tLoss: 0.341681\n",
      "Train Epoch: 3 [43520/60000 (72%)]\tLoss: 0.258997\n",
      "Train Epoch: 3 [44160/60000 (74%)]\tLoss: 0.313173\n",
      "Train Epoch: 3 [44800/60000 (75%)]\tLoss: 0.431487\n",
      "Train Epoch: 3 [45440/60000 (76%)]\tLoss: 0.509562\n",
      "Train Epoch: 3 [46080/60000 (77%)]\tLoss: 0.480716\n",
      "Train Epoch: 3 [46720/60000 (78%)]\tLoss: 0.257882\n",
      "Train Epoch: 3 [47360/60000 (79%)]\tLoss: 0.273271\n",
      "Train Epoch: 3 [48000/60000 (80%)]\tLoss: 0.293151\n",
      "Train Epoch: 3 [48640/60000 (81%)]\tLoss: 0.134677\n",
      "Train Epoch: 3 [49280/60000 (82%)]\tLoss: 0.231603\n",
      "Train Epoch: 3 [49920/60000 (83%)]\tLoss: 0.340319\n",
      "Train Epoch: 3 [50560/60000 (84%)]\tLoss: 0.199240\n",
      "Train Epoch: 3 [51200/60000 (85%)]\tLoss: 0.085204\n",
      "Train Epoch: 3 [51840/60000 (86%)]\tLoss: 0.163980\n",
      "Train Epoch: 3 [52480/60000 (87%)]\tLoss: 0.265925\n",
      "Train Epoch: 3 [53120/60000 (88%)]\tLoss: 0.206960\n",
      "Train Epoch: 3 [53760/60000 (90%)]\tLoss: 0.166941\n",
      "Train Epoch: 3 [54400/60000 (91%)]\tLoss: 0.121849\n",
      "Train Epoch: 3 [55040/60000 (92%)]\tLoss: 0.610020\n",
      "Train Epoch: 3 [55680/60000 (93%)]\tLoss: 0.264210\n",
      "Train Epoch: 3 [56320/60000 (94%)]\tLoss: 0.359355\n",
      "Train Epoch: 3 [56960/60000 (95%)]\tLoss: 0.270851\n",
      "Train Epoch: 3 [57600/60000 (96%)]\tLoss: 0.307136\n",
      "Train Epoch: 3 [58240/60000 (97%)]\tLoss: 0.348522\n",
      "Train Epoch: 3 [58880/60000 (98%)]\tLoss: 0.248379\n",
      "Train Epoch: 3 [59520/60000 (99%)]\tLoss: 0.207120\n",
      "\n",
      "Test set: Avg. loss: 0.0942, Accuracy: 9708/10000 (97%)\n",
      "\n"
     ]
    }
   ],
   "source": [
    "test()\n",
    "for epoch in range(1, n_epochs + 1):\n",
    "  train(epoch)\n",
    "  test()"
   ]
  },
  {
   "cell_type": "code",
   "execution_count": 105,
   "id": "0620f018",
   "metadata": {},
   "outputs": [
    {
     "data": {
      "text/plain": [
       "Text(0, 0.5, 'negative log likelihood loss')"
      ]
     },
     "execution_count": 105,
     "metadata": {},
     "output_type": "execute_result"
    },
    {
     "data": {
      "image/png": "[encoded data removed]",
      "text/plain": [
       "<Figure size 640x480 with 1 Axes>"
      ]
     },
     "metadata": {},
     "output_type": "display_data"
    }
   ],
   "source": [
    "plt.plot(train_counter, train_losses, color='blue')\n",
    "plt.xlabel('number of training examples seen')\n",
    "plt.ylabel('negative log likelihood loss')\n"
   ]
  },
  {
   "cell_type": "code",
   "execution_count": 106,
   "id": "f24160d9",
   "metadata": {},
   "outputs": [
    {
     "ename": "NameError",
     "evalue": "name 'output' is not defined",
     "output_type": "error",
     "traceback": [
      "\u001b[1;31m---------------------------------------------------------------------------\u001b[0m",
      "\u001b[1;31mNameError\u001b[0m                                 Traceback (most recent call last)",
      "Cell \u001b[1;32mIn[106], line 1\u001b[0m\n\u001b[1;32m----> 1\u001b[0m output\n",
      "\u001b[1;31mNameError\u001b[0m: name 'output' is not defined"
     ]
    }
   ],
   "source": [
    "output"
   ]
  },
  {
   "cell_type": "code",
   "execution_count": null,
   "id": "3c91b213",
   "metadata": {},
   "outputs": [],
   "source": []
  }
 ],
 "metadata": {
  "kernelspec": {
   "display_name": "Python 3 (ipykernel)",
   "language": "python",
   "name": "python3"
  },
  "language_info": {
   "codemirror_mode": {
    "name": "ipython",
    "version": 3
   },
   "file_extension": ".py",
   "mimetype": "text/x-python",
   "name": "python",
   "nbconvert_exporter": "python",
   "pygments_lexer": "ipython3",
   "version": "3.11.5"
  }
 },
 "nbformat": 4,
 "nbformat_minor": 5
}
