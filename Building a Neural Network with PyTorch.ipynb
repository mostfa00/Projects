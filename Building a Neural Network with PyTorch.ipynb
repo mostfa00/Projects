{
 "cells": [
  {
   "cell_type": "code",
   "execution_count": 1,
   "id": "6043448b",
   "metadata": {},
   "outputs": [],
   "source": [
    "import torch.nn as nn\n",
    "from torch.optim import Adam\n",
    "from torch.utils.data import DataLoader\n",
    "from torchvision import datasets\n",
    "from torchvision.transforms import ToTensor"
   ]
  },
  {
   "cell_type": "code",
   "execution_count": null,
   "id": "01361691",
   "metadata": {},
   "outputs": [],
   "source": [
    "train = datasets.MNIST(root = 'data',download=True,train=True,transform = ToTensor())\n",
    "dataset = DataLoader(train,32)\n",
    "\n",
    "class image_class(nn.Module):\n",
    "    def __init__(self):\n",
    "        super().__init__()\n",
    "        \n",
    "        self.model = nn.Sequential(\n",
    "        nn.Conv2d(1,32,(3,3)),\n",
    "        nn.ReLU(),\n",
    "        nn.Conv2d(32,64,(3,3)),\n",
    "        nn.ReLU(),\n",
    "        nn.Conv2d(64,64,(3,3)),\n",
    "        nn.ReLU(),\n",
    "        nn.Flatten(),\n",
    "        nn.Linear(64*(28-6)*(28-6),10)\n",
    "        )\n",
    "    def forward(self,x):\n",
    "        return self.model(x)\n",
    "    \n",
    "clf = image_class()\n",
    "loss_fn = nn.CrossEntropyLoss()\n",
    "optm = Adam(clf.parameters(),lr = 0.01)\n",
    "\n",
    "if __name__ == \"__main__\":\n",
    "    for epoch in range(10):\n",
    "        for batch in dataset:\n",
    "            X,y = batch\n",
    "            y_hat = clf(X)\n",
    "            loss = loss_fn(y_hat,y)\n",
    "            optm.zero_grad()\n",
    "            loss.backward()\n",
    "            optm.step()\n",
    "        print(f\"Epoch:{epoch} loss is {loss.item()}\")"
   ]
  },
  {
   "cell_type": "code",
   "execution_count": null,
   "id": "771337bc",
   "metadata": {},
   "outputs": [],
   "source": []
  }
 ],
 "metadata": {
  "kernelspec": {
   "display_name": "Python 3 (ipykernel)",
   "language": "python",
   "name": "python3"
  },
  "language_info": {
   "codemirror_mode": {
    "name": "ipython",
    "version": 3
   },
   "file_extension": ".py",
   "mimetype": "text/x-python",
   "name": "python",
   "nbconvert_exporter": "python",
   "pygments_lexer": "ipython3",
   "version": "3.11.3"
  }
 },
 "nbformat": 4,
 "nbformat_minor": 5
}
